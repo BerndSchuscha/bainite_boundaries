
    {
    "cells": [
    {
    "cell_type": "markdown",
    "metadata": {},
    "source": [
        "# Example Jupyter Notebook\n"
    ]
    },
    {
    "cell_type": "markdown",
    "metadata": {},
    "source": [
        "To use your code in this Jupyter notebook, you must import it first:\n"
    ]
    },
    {
    "cell_type": "code",
    "metadata": {},
    "execution_count": null,
    "outputs": [],
    "source": [
        "import os\n",
        "import sys\n",
        "module_path = os.path.abspath(os.path.join('..'))\n",
        "if module_path not in sys.path:\n",
        "    sys.path.append(module_path)\n",
        "\n",
        "from bainite_boundaries.main import main\n"
    ]
    },
    {
    "cell_type": "markdown",
    "metadata": {},
    "source": [
        "Now you can access all your functions and modules\n"
    ]
    },
    {
    "cell_type": "code",
    "metadata": {},
    "execution_count": null,
    "outputs": [],
    "source": [
        "main()\n"
    ]
    },
    {
    "cell_type": "markdown",
    "metadata": {},
    "source": [
        "Feel free to experiment with your code!\n"
    ]
    },
    {
    "cell_type": "markdown",
    "metadata": {},
    "source": [
        "## Hints for Jupyter Notebooks\n"
    ]
    },
    {
    "cell_type": "markdown",
    "metadata": {},
    "source": [
        "Variables declared in one block can be accessed from another. They even keep their value.\n"
    ]
    },
    {
    "cell_type": "code",
    "metadata": {},
    "execution_count": null,
    "outputs": [],
    "source": [
        "variable = \"test\"\n"
    ]
    },
    {
    "cell_type": "code",
    "metadata": {},
    "execution_count": null,
    "outputs": [],
    "source": [
        "print(variable)\n"
    ]
    }
    ],
    "metadata": {},
    "nbformat": 4,
    "nbformat_minor": 4
    }
    