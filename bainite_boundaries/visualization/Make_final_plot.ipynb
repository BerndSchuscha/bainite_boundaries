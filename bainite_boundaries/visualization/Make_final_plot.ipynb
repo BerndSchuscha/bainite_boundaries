{
 "cells": [
  {
   "cell_type": "code",
   "execution_count": 1,
   "metadata": {},
   "outputs": [],
   "source": [
    "import bainite_boundaries\n",
    "\n",
    "import matplotlib.pyplot as plt\n",
    "import matplotlib.colors as mcolors\n",
    "import numpy as np\n",
    "import seaborn as sns\n",
    "import pandas as pd\n",
    "\n",
    "path=str(bainite_boundaries.PROJECT_ROOT)+'/bainite_boundaries/data/'\n",
    "results_path=str(bainite_boundaries.PROJECT_ROOT)+'/bainite_boundaries/bainite_boundaries/results/'\n",
    "\n",
    "import os \n",
    "from pathlib import Path\n",
    "import sys\n",
    "project_root = os.path.abspath(Path(str(bainite_boundaries.PROJECT_ROOT), 'bainite_boundaries', 'bainite_boundaries'))\n",
    "\n",
    "# Add `bainite_boundaries` to sys.path if it’s not already present\n",
    "if project_root not in sys.path:\n",
    "    sys.path.insert(0, project_root)\n",
    "    \n",
    "\n",
    "palette = sns.color_palette(\"deep\")\n",
    "plt.rcParams['axes.prop_cycle'] = plt.cycler(color=palette)\n",
    "sns.set_context(\"notebook\")\n",
    "sns.set_style('whitegrid')\n",
    "# Remove the top and right spines\n",
    "#sns.despine()\n",
    "\n",
    "# Optional: Customize gridlines\n",
    "#plt.grid(True, which='major', linestyle='-', linewidth='0.5', color='gray')\n",
    "#plt.grid(True, which='minor', linestyle=':', linewidth='0.5', color='gray')\n",
    "norm = mcolors.Normalize(vmin=0, vmax=1)"
   ]
  },
  {
   "cell_type": "code",
   "execution_count": 2,
   "metadata": {},
   "outputs": [],
   "source": [
    "if False:\n",
    "    nbins=8\n",
    "    #Load example data\n",
    "    data=np.loadtxt(path+'Austenite_input2.txt')\n",
    "    y=np.loadtxt(path+'Austenite_y2.txt')\n",
    "\n",
    "    L=y==1\n",
    "    L1=y==-1\n",
    "    print(np.sum(L1))\n",
    "\n",
    "    L2=y==-2\n",
    "    print(np.sum(L2))"
   ]
  },
  {
   "cell_type": "code",
   "execution_count": 3,
   "metadata": {},
   "outputs": [
    {
     "data": {
      "text/plain": [
       "array([False, False, False, ..., False, False, False])"
      ]
     },
     "execution_count": 3,
     "metadata": {},
     "output_type": "execute_result"
    }
   ],
   "source": [
    "\n",
    "\n",
    "filename = f'{results_path}grid/Bainite_grid_prediction'\n",
    "results = pd.read_csv(filename+'.csv')\n",
    "\n",
    "y = results['y_pred'].to_numpy()\n",
    "L_aust = y==1\n",
    "L_aust"
   ]
  },
  {
   "cell_type": "code",
   "execution_count": 4,
   "metadata": {},
   "outputs": [],
   "source": [
    "which_data = 'Austensite'\n",
    "# which_data = 'Martensite_start'\n",
    "# which_data = 'Bainite_start'\n",
    "which_data = 'Bainite'\n",
    "# which_data = 'Ferrite'\n",
    "# which_data = 'Ferrite_critCR'\n",
    "\n",
    "filename = f'{results_path}grid/{which_data}_grid_prediction'\n",
    "results = pd.read_csv(filename+'.csv')\n",
    "\n",
    "y = results['y_pred'].to_numpy()\n",
    "lower_CP_distance = results['lower_CP_distance'].to_numpy()\n",
    "lower_CP = results['lower_CP'].to_numpy()\n",
    "\n",
    "# y = lower_CP\n",
    "\n",
    "if which_data == 'Austensite':\n",
    "    L=y==1\n",
    "elif which_data == 'Bainite':\n",
    "    y = lower_CP_distance\n",
    "    # y = lower_CP\n",
    "    L=y<60*60*3\n",
    "    \n",
    "    L = np.logical_and(L, L_aust)\n",
    "    # L = L_aust\n",
    "else:\n",
    "    print('Not implemented')"
   ]
  },
  {
   "cell_type": "code",
   "execution_count": 5,
   "metadata": {},
   "outputs": [
    {
     "name": "stdout",
     "output_type": "stream",
     "text": [
      "Loading final data\n",
      "x shape: (1000000, 9)\n",
      "y shape: (1000000,)\n"
     ]
    }
   ],
   "source": [
    "from bainite_boundaries.utils.load_data import load_dataset\n",
    "\n",
    "x,y,features=load_dataset('final')"
   ]
  },
  {
   "cell_type": "code",
   "execution_count": 6,
   "metadata": {},
   "outputs": [
    {
     "data": {
      "text/plain": [
       "'Bainite'"
      ]
     },
     "execution_count": 6,
     "metadata": {},
     "output_type": "execute_result"
    }
   ],
   "source": [
    "which_data\n"
   ]
  },
  {
   "cell_type": "code",
   "execution_count": 7,
   "metadata": {},
   "outputs": [],
   "source": [
    "from bainite_boundaries.utils.data_processing import evaluation_conditions\n",
    "L_conditions=[]\n",
    "which_data_list=['Austensite','Bainite_start','Martensite_start','Bainite','Martensite_start_RA','Ferrite_critCR']\n",
    "for which_data in which_data_list:\n",
    "    filename = f'{results_path}grid/{which_data}_grid_prediction'\n",
    "    results = pd.read_csv(filename+'.csv')\n",
    "    y = results['y_pred'].to_numpy()\n",
    "    lower_CP_distance = results['lower_CP_distance'].to_numpy()\n",
    "    upper_CP_distance = results['upper_CP_distance'].to_numpy()\n",
    "    #strict,normal,levient\n",
    "    if which_data=='Austensite':\n",
    "        L_conditions.append([evaluation_conditions(y,x[:,-2],which_data),evaluation_conditions(y,x[:,-2],which_data),evaluation_conditions(y,x[:,-2],which_data)])    \n",
    "    if which_data in ['Bainite_start']:\n",
    "        L_conditions.append([evaluation_conditions(lower_CP_distance,x[:,-2:],which_data),evaluation_conditions(y,x[:,-2:],which_data),evaluation_conditions(upper_CP_distance,x[:,-2:],which_data)])      \n",
    "    if which_data in ['Martensite_start','Bainite','Martensite_start_RA','Ferrite_critCR']:\n",
    "        L_conditions.append([evaluation_conditions(upper_CP_distance,x[:,-2:],which_data),evaluation_conditions(y,x[:,-2:],which_data),evaluation_conditions(lower_CP_distance,x[:,-2:],which_data)])  "
   ]
  },
  {
   "cell_type": "code",
   "execution_count": 8,
   "metadata": {},
   "outputs": [],
   "source": [
    "which_data='Martensite_start'\n",
    "filename = f'{results_path}grid/{which_data}_grid_prediction'\n",
    "results = pd.read_csv(filename+'.csv')\n",
    "y = results['y_pred'].to_numpy()\n",
    "lower_CP_distance = results['lower_CP_distance'].to_numpy()\n",
    "upper_CP_distance = results['upper_CP_distance'].to_numpy()\n"
   ]
  },
  {
   "cell_type": "code",
   "execution_count": 9,
   "metadata": {},
   "outputs": [],
   "source": [
    "which_data='Martensite_start_RA'\n",
    "filename = f'{results_path}grid/{which_data}_grid_prediction'\n",
    "results = pd.read_csv(filename+'.csv')\n",
    "y1 = results['y_pred'].to_numpy()\n",
    "lower_CP_distance = results['lower_CP_distance'].to_numpy()\n",
    "upper_CP_distance = results['upper_CP_distance'].to_numpy()"
   ]
  },
  {
   "cell_type": "code",
   "execution_count": 10,
   "metadata": {},
   "outputs": [
    {
     "name": "stdout",
     "output_type": "stream",
     "text": [
      "Loading final data\n",
      "x shape: (1000000, 9)\n",
      "y shape: (1000000,)\n"
     ]
    }
   ],
   "source": [
    "x_test_final1, y_test_austensite, features_final = load_dataset('final',which_data)"
   ]
  },
  {
   "cell_type": "code",
   "execution_count": 11,
   "metadata": {},
   "outputs": [
    {
     "name": "stdout",
     "output_type": "stream",
     "text": [
      "Loading final data\n",
      "x shape: (1000000, 9)\n",
      "y shape: (1000000,)\n"
     ]
    }
   ],
   "source": [
    "x_test_final, y_test_austensite, features_final = load_dataset('final',None)"
   ]
  },
  {
   "cell_type": "code",
   "execution_count": 12,
   "metadata": {},
   "outputs": [
    {
     "data": {
      "text/plain": [
       "(array([105307., 201708., 179730., 182354., 151810., 102820.,  53436.,\n",
       "         18914.,   3682.,    239.]),\n",
       " array([-0.99999623, -0.55685828, -0.11372034,  0.32941761,  0.77255555,\n",
       "         1.2156935 ,  1.65883144,  2.10196939,  2.54510734,  2.98824528,\n",
       "         3.43138323]),\n",
       " <BarContainer object of 10 artists>)"
      ]
     },
     "execution_count": 12,
     "metadata": {},
     "output_type": "execute_result"
    },
    {
     "data": {
      "image/png": "[encoded data removed]",
      "text/plain": [
       "<Figure size 640x480 with 1 Axes>"
      ]
     },
     "metadata": {},
     "output_type": "display_data"
    }
   ],
   "source": [
    "plt.hist(x_test_final1[:,0]-x_test_final[:,0])"
   ]
  },
  {
   "cell_type": "code",
   "execution_count": 13,
   "metadata": {},
   "outputs": [
    {
     "data": {
      "text/plain": [
       "(array([   630.,  10206.,  44370., 103269., 156741., 179237., 191638.,\n",
       "        222458.,  87101.,   4350.]),\n",
       " array([229.47689676, 251.54206971, 273.60724265, 295.6724156 ,\n",
       "        317.73758855, 339.80276149, 361.86793444, 383.93310739,\n",
       "        405.99828033, 428.06345328, 450.12862623]),\n",
       " <BarContainer object of 10 artists>)"
      ]
     },
     "execution_count": 13,
     "metadata": {},
     "output_type": "execute_result"
    },
    {
     "data": {
      "image/png": "[encoded data removed]",
      "text/plain": [
       "<Figure size 640x480 with 1 Axes>"
      ]
     },
     "metadata": {},
     "output_type": "display_data"
    }
   ],
   "source": [
    "plt.hist(y)\n",
    "plt.hist(y1)"
   ]
  },
  {
   "cell_type": "code",
   "execution_count": 14,
   "metadata": {},
   "outputs": [
    {
     "name": "stdout",
     "output_type": "stream",
     "text": [
      "Austensite 30.7116\n",
      "Bainite_start 27.2221\n",
      "Martensite_start 41.8471\n",
      "Bainite 0.7031\n",
      "Martensite_start_RA 0.0\n",
      "Ferrite_critCR 0.0\n",
      "Austensite 30.7116\n",
      "Bainite_start 49.0411\n",
      "Martensite_start 63.7559\n",
      "Bainite 59.5979\n",
      "Martensite_start_RA 0.0\n",
      "Ferrite_critCR 1.9839\n",
      "Austensite 30.7116\n",
      "Bainite_start 70.5066\n",
      "Martensite_start 85.4386\n",
      "Bainite 95.2628\n",
      "Martensite_start_RA 0.0\n",
      "Ferrite_critCR 57.6697\n"
     ]
    }
   ],
   "source": [
    "for j in range(3):\n",
    "    LL=True\n",
    "    for k in range(len(L_conditions)):\n",
    "        LL=np.logical_and(LL,L_conditions[k][j])\n",
    "        LL=L_conditions[k][j]\n",
    "        print(which_data_list[k],np.sum(LL)/10000)"
   ]
  },
  {
   "cell_type": "code",
   "execution_count": 15,
   "metadata": {},
   "outputs": [
    {
     "ename": "NameError",
     "evalue": "name 'data' is not defined",
     "output_type": "error",
     "traceback": [
      "\u001b[0;31m---------------------------------------------------------------------------\u001b[0m",
      "\u001b[0;31mNameError\u001b[0m                                 Traceback (most recent call last)",
      "Cell \u001b[0;32mIn[15], line 1\u001b[0m\n\u001b[0;32m----> 1\u001b[0m dat\u001b[38;5;241m=\u001b[39m[data[:,k] \u001b[38;5;28;01mfor\u001b[39;00m k \u001b[38;5;129;01min\u001b[39;00m \u001b[38;5;28mrange\u001b[39m(\u001b[38;5;241m7\u001b[39m)]\n\u001b[1;32m      2\u001b[0m dat\u001b[38;5;241m.\u001b[39mappend(np\u001b[38;5;241m.\u001b[39msum(data,axis\u001b[38;5;241m=\u001b[39m\u001b[38;5;241m1\u001b[39m))\n\u001b[1;32m      4\u001b[0m li\u001b[38;5;241m=\u001b[39m[\u001b[38;5;124m'\u001b[39m\u001b[38;5;124mC\u001b[39m\u001b[38;5;124m'\u001b[39m, \u001b[38;5;124m'\u001b[39m\u001b[38;5;124mSi\u001b[39m\u001b[38;5;124m'\u001b[39m, \u001b[38;5;124m'\u001b[39m\u001b[38;5;124mMn\u001b[39m\u001b[38;5;124m'\u001b[39m, \u001b[38;5;124m'\u001b[39m\u001b[38;5;124mCr\u001b[39m\u001b[38;5;124m'\u001b[39m, \u001b[38;5;124m'\u001b[39m\u001b[38;5;124mAl\u001b[39m\u001b[38;5;124m'\u001b[39m, \u001b[38;5;124m'\u001b[39m\u001b[38;5;124mMo\u001b[39m\u001b[38;5;124m'\u001b[39m, \u001b[38;5;124m'\u001b[39m\u001b[38;5;124mV\u001b[39m\u001b[38;5;124m'\u001b[39m, \u001b[38;5;124m'\u001b[39m\u001b[38;5;124mw_per\u001b[39m\u001b[38;5;124m'\u001b[39m]\n",
      "Cell \u001b[0;32mIn[15], line 1\u001b[0m, in \u001b[0;36m<listcomp>\u001b[0;34m(.0)\u001b[0m\n\u001b[0;32m----> 1\u001b[0m dat\u001b[38;5;241m=\u001b[39m[\u001b[43mdata\u001b[49m[:,k] \u001b[38;5;28;01mfor\u001b[39;00m k \u001b[38;5;129;01min\u001b[39;00m \u001b[38;5;28mrange\u001b[39m(\u001b[38;5;241m7\u001b[39m)]\n\u001b[1;32m      2\u001b[0m dat\u001b[38;5;241m.\u001b[39mappend(np\u001b[38;5;241m.\u001b[39msum(data,axis\u001b[38;5;241m=\u001b[39m\u001b[38;5;241m1\u001b[39m))\n\u001b[1;32m      4\u001b[0m li\u001b[38;5;241m=\u001b[39m[\u001b[38;5;124m'\u001b[39m\u001b[38;5;124mC\u001b[39m\u001b[38;5;124m'\u001b[39m, \u001b[38;5;124m'\u001b[39m\u001b[38;5;124mSi\u001b[39m\u001b[38;5;124m'\u001b[39m, \u001b[38;5;124m'\u001b[39m\u001b[38;5;124mMn\u001b[39m\u001b[38;5;124m'\u001b[39m, \u001b[38;5;124m'\u001b[39m\u001b[38;5;124mCr\u001b[39m\u001b[38;5;124m'\u001b[39m, \u001b[38;5;124m'\u001b[39m\u001b[38;5;124mAl\u001b[39m\u001b[38;5;124m'\u001b[39m, \u001b[38;5;124m'\u001b[39m\u001b[38;5;124mMo\u001b[39m\u001b[38;5;124m'\u001b[39m, \u001b[38;5;124m'\u001b[39m\u001b[38;5;124mV\u001b[39m\u001b[38;5;124m'\u001b[39m, \u001b[38;5;124m'\u001b[39m\u001b[38;5;124mw_per\u001b[39m\u001b[38;5;124m'\u001b[39m]\n",
      "\u001b[0;31mNameError\u001b[0m: name 'data' is not defined"
     ]
    }
   ],
   "source": [
    "\n",
    "dat=[data[:,k] for k in range(7)]\n",
    "dat.append(np.sum(data,axis=1))\n",
    "\n",
    "li=['C', 'Si', 'Mn', 'Cr', 'Al', 'Mo', 'V', 'w_per']\n",
    "fig1,ax1=plt.subplots(2,4,figsize=(10,5))\n",
    "ax1=ax1.flatten()\n",
    "for k in range(8):\n",
    "\n",
    "    H,bins =np.histogram(dat[k],bins=nbins)\n",
    "    H1,_ =np.histogram(dat[k][L.flatten()],bins=nbins)\n",
    "\n",
    "    HH=H1/H\n",
    "\n",
    "    ax1[k].bar(bins[:-1],HH,width=bins[1]-bins[0])\n",
    "    ax1[k].set_ylim([0,1])\n",
    "    ax1[k].set_title(li[k])\n",
    "    \n",
    "\n",
    "fig1.tight_layout()\n"
   ]
  },
  {
   "cell_type": "code",
   "execution_count": null,
   "metadata": {},
   "outputs": [],
   "source": [
    "axs=[]\n",
    "fig, ax= plt.subplots(8,8,figsize=(10,10))\n",
    "#fig.subplots_adjust(wspace=3, hspace=3)\n",
    "for k in range(8):\n",
    "    for j in range(8): \n",
    "        ax[k,j].grid(False) \n",
    "        \n",
    "        if k>j:\n",
    "            \n",
    "            H, yedges, xedges =np.histogram2d(dat[k],dat[j],bins=nbins)\n",
    "            H1, _, _ =np.histogram2d(dat[k][L.flatten()],dat[j][L.flatten()],bins=nbins)\n",
    "\n",
    "            HH=H1/H\n",
    "            im=ax[k,j].pcolormesh(xedges, yedges, HH,cmap='jet_r',norm=norm)\n",
    "            ax[k,j].set_aspect('auto')\n",
    "            #fig.colorbar(cf, ax=ax[k,j])\n",
    "            axs.append(ax[k,j])\n",
    "\n",
    "            if k!=7:\n",
    "                ax[k,j].set_xticklabels([])\n",
    "\n",
    "            if j!=0:\n",
    "                ax[k,j].set_yticklabels([])\n",
    "\n",
    "\n",
    "            if k==7:\n",
    "                ax[k,j].set_xlabel(li[j])\n",
    "\n",
    "            if j==0:\n",
    "                ax[k,j].set_ylabel(li[k])\n",
    " \n",
    "\n",
    "\n",
    "\n",
    "\n",
    "        else:\n",
    "            ax[k,j].remove()\n",
    "\n",
    "\n",
    "cbar=fig.colorbar(im,ax=axs, orientation='vertical',fraction=0.03)\n",
    "\n",
    "cbar.set_label('Acception Percentage')\n",
    "\n",
    "plt.savefig('final_prediction.png', dpi=300, bbox_inches='tight')\n",
    "# fig.tight_layout()"
   ]
  },
  {
   "cell_type": "code",
   "execution_count": null,
   "metadata": {},
   "outputs": [],
   "source": []
  }
 ],
 "metadata": {
  "kernelspec": {
   "display_name": "BC-1",
   "language": "python",
   "name": "python3"
  },
  "language_info": {
   "codemirror_mode": {
    "name": "ipython",
    "version": 3
   },
   "file_extension": ".py",
   "mimetype": "text/x-python",
   "name": "python",
   "nbconvert_exporter": "python",
   "pygments_lexer": "ipython3",
   "version": "3.9.18"
  }
 },
 "nbformat": 4,
 "nbformat_minor": 2
}
